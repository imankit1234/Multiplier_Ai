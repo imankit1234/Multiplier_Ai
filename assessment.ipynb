{
 "cells": [
  {
   "cell_type": "code",
   "execution_count": 0,
   "metadata": {
    "application/vnd.databricks.v1+cell": {
     "cellMetadata": {
      "byteLimit": 2048000,
      "rowLimit": 10000
     },
     "inputWidgets": {},
     "nuid": "4e1d028c-8129-4900-ad98-cd8f1505ee42",
     "showTitle": false,
     "tableResultSettingsMap": {},
     "title": ""
    }
   },
   "outputs": [],
   "source": [
    "from pyspark.sql import SparkSession\n",
    "\n",
    "# Create Spark session\n",
    "spark = SparkSession.builder.appName(\"DataQualityCheck\").getOrCreate()\n",
    "\n"
   ]
  },
  {
   "cell_type": "code",
   "execution_count": 0,
   "metadata": {
    "application/vnd.databricks.v1+cell": {
     "cellMetadata": {
      "byteLimit": 2048000,
      "implicitDf": true,
      "rowLimit": 10000
     },
     "inputWidgets": {},
     "nuid": "b9555f46-3464-41f1-8890-796d7071a721",
     "showTitle": false,
     "tableResultSettingsMap": {},
     "title": ""
    }
   },
   "outputs": [],
   "source": [
    "%sql\n",
    "SELECT * FROM workspace.default.raw_data LIMIT 10;\n"
   ]
  },
  {
   "cell_type": "code",
   "execution_count": 0,
   "metadata": {
    "application/vnd.databricks.v1+cell": {
     "cellMetadata": {
      "byteLimit": 2048000,
      "implicitDf": true,
      "rowLimit": 10000
     },
     "inputWidgets": {},
     "nuid": "65efb596-05ef-4e4e-9d3a-46dc3e87ae42",
     "showTitle": false,
     "tableResultSettingsMap": {},
     "title": ""
    }
   },
   "outputs": [],
   "source": [
    "%sql\n",
    "SELECT \n",
    "    COUNT(*) AS total_records,\n",
    "    SUM(CASE WHEN name IS NULL THEN 1 ELSE 0 END) AS missing_name,\n",
    "    SUM(CASE WHEN speciality IS NULL THEN 1 ELSE 0 END) AS missing_speciality,\n",
    "    SUM(CASE WHEN education IS NULL THEN 1 ELSE 0 END) AS missing_education,\n",
    "    SUM(CASE WHEN experience IS NULL THEN 1 ELSE 0 END) AS missing_experience,\n",
    "    SUM(CASE WHEN city IS NULL THEN 1 ELSE 0 END) AS missing_city,\n",
    "    SUM(CASE WHEN state IS NULL THEN 1 ELSE 0 END) AS missing_state,\n",
    "    SUM(CASE WHEN pincode IS NULL THEN 1 ELSE 0 END) AS missing_pincode\n",
    "FROM workspace.default.raw_data;\n"
   ]
  },
  {
   "cell_type": "code",
   "execution_count": 0,
   "metadata": {
    "application/vnd.databricks.v1+cell": {
     "cellMetadata": {
      "byteLimit": 2048000,
      "implicitDf": true,
      "rowLimit": 10000
     },
     "inputWidgets": {},
     "nuid": "96626c46-6fcd-42c6-86d1-d3ee3cdb9b3d",
     "showTitle": false,
     "tableResultSettingsMap": {},
     "title": ""
    }
   },
   "outputs": [],
   "source": [
    "%sql\n",
    "SELECT name, speciality, education, experience, COUNT(*) AS count\n",
    "FROM workspace.default.raw_data\n",
    "GROUP BY name, speciality, education, experience\n",
    "HAVING COUNT(*) > 1;\n"
   ]
  },
  {
   "cell_type": "code",
   "execution_count": 0,
   "metadata": {
    "application/vnd.databricks.v1+cell": {
     "cellMetadata": {
      "byteLimit": 2048000,
      "implicitDf": true,
      "rowLimit": 10000
     },
     "inputWidgets": {},
     "nuid": "21efa9bc-232e-450e-949b-9e0a63e6eca5",
     "showTitle": false,
     "tableResultSettingsMap": {},
     "title": ""
    }
   },
   "outputs": [],
   "source": [
    "%sql\n",
    "SELECT * FROM workspace.default.raw_data \n",
    "WHERE TRY_CAST(pincode AS INT) IS NULL AND pincode IS NOT NULL;\n"
   ]
  },
  {
   "cell_type": "code",
   "execution_count": 0,
   "metadata": {
    "application/vnd.databricks.v1+cell": {
     "cellMetadata": {
      "byteLimit": 2048000,
      "implicitDf": true,
      "rowLimit": 10000
     },
     "inputWidgets": {},
     "nuid": "2af3f82b-f831-4c56-a082-ca85ec42e85d",
     "showTitle": false,
     "tableResultSettingsMap": {},
     "title": ""
    }
   },
   "outputs": [],
   "source": [
    "%sql\n",
    "SELECT * FROM workspace.default.raw_data\n",
    "WHERE email IS NULL OR email NOT LIKE '%@%.%';\n"
   ]
  },
  {
   "cell_type": "code",
   "execution_count": 0,
   "metadata": {
    "application/vnd.databricks.v1+cell": {
     "cellMetadata": {
      "byteLimit": 2048000,
      "implicitDf": true,
      "rowLimit": 10000
     },
     "inputWidgets": {},
     "nuid": "75b70088-657e-4ff0-b4a0-4a3c0fb18c8e",
     "showTitle": false,
     "tableResultSettingsMap": {},
     "title": ""
    }
   },
   "outputs": [],
   "source": [
    "%sql\n",
    "UPDATE workspace.default.raw_data\n",
    "SET speciality = 'Unknown'\n",
    "WHERE speciality IS NULL;\n"
   ]
  },
  {
   "cell_type": "code",
   "execution_count": 0,
   "metadata": {
    "application/vnd.databricks.v1+cell": {
     "cellMetadata": {
      "byteLimit": 2048000,
      "implicitDf": true,
      "rowLimit": 10000
     },
     "inputWidgets": {},
     "nuid": "ca79c34b-8430-4959-9567-105c608135d4",
     "showTitle": false,
     "tableResultSettingsMap": {},
     "title": ""
    }
   },
   "outputs": [],
   "source": [
    "%sql\n",
    "SELECT name, COUNT(DISTINCT clinic_name) AS clinic_count\n",
    "FROM workspace.default.raw_data\n",
    "GROUP BY name\n",
    "HAVING COUNT(DISTINCT clinic_name) > 1;\n"
   ]
  },
  {
   "cell_type": "code",
   "execution_count": 0,
   "metadata": {
    "application/vnd.databricks.v1+cell": {
     "cellMetadata": {
      "byteLimit": 2048000,
      "implicitDf": true,
      "rowLimit": 10000
     },
     "inputWidgets": {},
     "nuid": "2a52b3b8-6685-40f3-8570-158d94841335",
     "showTitle": false,
     "tableResultSettingsMap": {},
     "title": ""
    }
   },
   "outputs": [],
   "source": [
    "%sql\n",
    "SELECT * FROM workspace.default.raw_data\n",
    "WHERE phone IS NULL OR TRIM(phone) = '';\n"
   ]
  },
  {
   "cell_type": "code",
   "execution_count": 0,
   "metadata": {
    "application/vnd.databricks.v1+cell": {
     "cellMetadata": {
      "byteLimit": 2048000,
      "implicitDf": true,
      "rowLimit": 10000
     },
     "inputWidgets": {},
     "nuid": "9319d3ec-5870-4061-ac08-872f3b29f267",
     "showTitle": false,
     "tableResultSettingsMap": {},
     "title": ""
    }
   },
   "outputs": [],
   "source": [
    "%sql\n",
    "CREATE OR REPLACE TABLE workspace.default.cleaned_data AS \n",
    "WITH ranked_data AS (\n",
    "    SELECT \n",
    "        record_id, \n",
    "        url, \n",
    "        sheet_doc_name, \n",
    "        sheet_speciality, \n",
    "        name, \n",
    "        clinic_name, \n",
    "        education, \n",
    "        experience, \n",
    "        speciality, \n",
    "        address, \n",
    "        mci, \n",
    "        passing_year, \n",
    "        memberships, \n",
    "        fees, \n",
    "        timing, \n",
    "        awards, \n",
    "        specializations, \n",
    "        full_education, \n",
    "        full_experience, \n",
    "        services, \n",
    "        name_ratio, \n",
    "        speciality_ratio, \n",
    "        clinic_Locationn, \n",
    "        doctor_location, \n",
    "        `Languages spoken` AS languages_spoken, \n",
    "        clinic__name1, \n",
    "        address1, \n",
    "        fee1, \n",
    "        clinic__name2, \n",
    "        address2, \n",
    "        fee2, \n",
    "        clinic__name3, \n",
    "        address3, \n",
    "        fee3, \n",
    "        phone, \n",
    "        alternate_email, \n",
    "        email, \n",
    "        locality, \n",
    "        city, \n",
    "        pincode, \n",
    "        state, \n",
    "        clinic__name4, \n",
    "        address4, \n",
    "        fee4, \n",
    "        ROW_NUMBER() OVER (\n",
    "            PARTITION BY name, speciality, education, experience \n",
    "            ORDER BY record_id\n",
    "        ) AS row_num\n",
    "    FROM workspace.default.raw_data\n",
    ")\n",
    "SELECT * FROM ranked_data WHERE row_num = 1;"
   ]
  },
  {
   "cell_type": "code",
   "execution_count": 0,
   "metadata": {
    "application/vnd.databricks.v1+cell": {
     "cellMetadata": {
      "byteLimit": 2048000,
      "implicitDf": true,
      "rowLimit": 10000
     },
     "inputWidgets": {},
     "nuid": "7f650b4d-6719-46f6-8f92-3015ac25d792",
     "showTitle": false,
     "tableResultSettingsMap": {},
     "title": ""
    }
   },
   "outputs": [],
   "source": [
    "%sql\n",
    "select * from workspace.default.cleaned_data limit 10 ;"
   ]
  },
  {
   "cell_type": "code",
   "execution_count": 0,
   "metadata": {
    "application/vnd.databricks.v1+cell": {
     "cellMetadata": {
      "byteLimit": 2048000,
      "implicitDf": true,
      "rowLimit": 10000
     },
     "inputWidgets": {},
     "nuid": "209ae85d-0637-40e7-979c-62db4e113cf6",
     "showTitle": false,
     "tableResultSettingsMap": {},
     "title": ""
    }
   },
   "outputs": [],
   "source": [
    "%sql\n",
    "select 'cleaned',count (*) from workspace.default.cleaned_data \n",
    "union all \n",
    "select 'dedupe',count (*) from workspace.default.raw_data"
   ]
  },
  {
   "cell_type": "code",
   "execution_count": 0,
   "metadata": {
    "application/vnd.databricks.v1+cell": {
     "cellMetadata": {
      "byteLimit": 2048000,
      "implicitDf": true,
      "rowLimit": 10000
     },
     "inputWidgets": {},
     "nuid": "92e9a1e7-8248-4c4e-818b-faa9452ad3a2",
     "showTitle": false,
     "tableResultSettingsMap": {},
     "title": ""
    }
   },
   "outputs": [],
   "source": [
    "%sql\n",
    "UPDATE workspace.default.cleaned_data\n",
    "SET speciality = 'Unknown'\n",
    "WHERE speciality IS NULL;\n",
    "\n",
    "\n"
   ]
  },
  {
   "cell_type": "code",
   "execution_count": 0,
   "metadata": {
    "application/vnd.databricks.v1+cell": {
     "cellMetadata": {
      "byteLimit": 2048000,
      "implicitDf": true,
      "rowLimit": 10000
     },
     "inputWidgets": {},
     "nuid": "ac568634-66d8-4e4e-9445-3e606a91b077",
     "showTitle": false,
     "tableResultSettingsMap": {},
     "title": ""
    }
   },
   "outputs": [],
   "source": [
    "%sql\n",
    "UPDATE workspace.default.cleaned_data\n",
    "SET education = 'Not Available'\n",
    "WHERE education IS NULL;"
   ]
  },
  {
   "cell_type": "code",
   "execution_count": 0,
   "metadata": {
    "application/vnd.databricks.v1+cell": {
     "cellMetadata": {
      "byteLimit": 2048000,
      "implicitDf": true,
      "rowLimit": 10000
     },
     "inputWidgets": {},
     "nuid": "40623d3b-935d-44f4-9a40-d7fe5fef187c",
     "showTitle": false,
     "tableResultSettingsMap": {},
     "title": ""
    }
   },
   "outputs": [],
   "source": [
    "%sql\n",
    "DELETE FROM workspace.default.cleaned_data\n",
    "WHERE email IS NOT NULL AND email NOT LIKE '%@%.%';"
   ]
  },
  {
   "cell_type": "code",
   "execution_count": 0,
   "metadata": {
    "application/vnd.databricks.v1+cell": {
     "cellMetadata": {
      "byteLimit": 2048000,
      "implicitDf": true,
      "rowLimit": 10000
     },
     "inputWidgets": {},
     "nuid": "5759013f-3226-440e-9152-48552cc43ac2",
     "showTitle": false,
     "tableResultSettingsMap": {},
     "title": ""
    }
   },
   "outputs": [],
   "source": [
    "%sql\n",
    "UPDATE workspace.default.cleaned_data\n",
    "SET phone = REGEXP_REPLACE(phone, '[^0-9]', '')\n",
    "WHERE phone IS NOT NULL;\n"
   ]
  },
  {
   "cell_type": "code",
   "execution_count": 0,
   "metadata": {
    "application/vnd.databricks.v1+cell": {
     "cellMetadata": {
      "byteLimit": 2048000,
      "implicitDf": true,
      "rowLimit": 10000
     },
     "inputWidgets": {},
     "nuid": "d728503e-7572-468d-8d26-2cff77bd2990",
     "showTitle": false,
     "tableResultSettingsMap": {},
     "title": ""
    }
   },
   "outputs": [],
   "source": [
    "%sql\n",
    "DELETE FROM workspace.default.cleaned_data\n",
    "WHERE TRY_CAST(pincode AS INT) IS NULL AND pincode IS NOT NULL;\n"
   ]
  },
  {
   "cell_type": "code",
   "execution_count": 0,
   "metadata": {
    "application/vnd.databricks.v1+cell": {
     "cellMetadata": {
      "byteLimit": 2048000,
      "implicitDf": true,
      "rowLimit": 10000
     },
     "inputWidgets": {},
     "nuid": "cf4b1886-437c-420a-bdea-2ef53a1c3adf",
     "showTitle": false,
     "tableResultSettingsMap": {},
     "title": ""
    }
   },
   "outputs": [],
   "source": [
    "%sql\n",
    "UPDATE workspace.default.cleaned_data\n",
    "SET phone = CASE \n",
    "                WHEN phone IS NULL OR TRIM(phone) = '' THEN 'Unknown' \n",
    "                ELSE phone \n",
    "            END,\n",
    "    email = CASE \n",
    "                WHEN email IS NULL OR TRIM(email) = '' THEN 'Unknown' \n",
    "                ELSE email \n",
    "            END,\n",
    "    alternate_email = CASE \n",
    "                         WHEN alternate_email IS NULL OR TRIM(alternate_email) = '' THEN 'Unknown' \n",
    "                         ELSE alternate_email \n",
    "                     END;\n"
   ]
  },
  {
   "cell_type": "code",
   "execution_count": 0,
   "metadata": {
    "application/vnd.databricks.v1+cell": {
     "cellMetadata": {
      "byteLimit": 2048000,
      "implicitDf": true,
      "rowLimit": 10000
     },
     "inputWidgets": {},
     "nuid": "559fe8f6-9534-4b00-a019-582891d062cf",
     "showTitle": false,
     "tableResultSettingsMap": {},
     "title": ""
    }
   },
   "outputs": [],
   "source": [
    "%sql\n",
    "select count(*) from workspace.default.cleaned_data"
   ]
  },
  {
   "cell_type": "code",
   "execution_count": 0,
   "metadata": {
    "application/vnd.databricks.v1+cell": {
     "cellMetadata": {
      "byteLimit": 2048000,
      "implicitDf": true,
      "rowLimit": 10000
     },
     "inputWidgets": {},
     "nuid": "ee5c3198-be56-4860-b84d-18fa72fbc96c",
     "showTitle": false,
     "tableResultSettingsMap": {},
     "title": ""
    }
   },
   "outputs": [],
   "source": [
    "%sql\n",
    "UPDATE workspace.default.cleaned_data\n",
    "SET experience = LEFT(REGEXP_REPLACE(experience, '[^0-9]', ''), 2);\n",
    "\n",
    "\n",
    "\n",
    "\n"
   ]
  },
  {
   "cell_type": "code",
   "execution_count": 0,
   "metadata": {
    "application/vnd.databricks.v1+cell": {
     "cellMetadata": {
      "byteLimit": 2048000,
      "implicitDf": true,
      "rowLimit": 10000
     },
     "inputWidgets": {},
     "nuid": "495da77d-30d3-4b0b-9e16-15439701b82a",
     "showTitle": false,
     "tableResultSettingsMap": {},
     "title": ""
    }
   },
   "outputs": [],
   "source": [
    "%sql\n",
    "UPDATE workspace.default.cleaned_data\n",
    "SET name = TRIM(name),\n",
    "    speciality = TRIM(speciality),\n",
    "    clinic_name = TRIM(clinic_name),\n",
    "    education = TRIM(education),\n",
    "    experience = TRIM(experience),\n",
    "    address = TRIM(address),\n",
    "    city = TRIM(city),\n",
    "    state = TRIM(state);\n"
   ]
  },
  {
   "cell_type": "code",
   "execution_count": 0,
   "metadata": {
    "application/vnd.databricks.v1+cell": {
     "cellMetadata": {
      "byteLimit": 2048000,
      "implicitDf": true,
      "rowLimit": 10000
     },
     "inputWidgets": {},
     "nuid": "d9d90301-e5f3-44b4-8cfb-4661e3de8789",
     "showTitle": false,
     "tableResultSettingsMap": {},
     "title": ""
    }
   },
   "outputs": [],
   "source": [
    "%sql\n",
    "CREATE OR REPLACE TABLE workspace.default.final_cleaned_data AS \n",
    "SELECT * FROM workspace.default.cleaned_data;\n"
   ]
  },
  {
   "cell_type": "code",
   "execution_count": 0,
   "metadata": {
    "application/vnd.databricks.v1+cell": {
     "cellMetadata": {
      "byteLimit": 2048000,
      "implicitDf": true,
      "rowLimit": 10000
     },
     "inputWidgets": {},
     "nuid": "1669cb9e-846f-442c-a2bc-d0065225e664",
     "showTitle": false,
     "tableResultSettingsMap": {},
     "title": ""
    }
   },
   "outputs": [],
   "source": [
    "%sql\n",
    "SELECT * FROM workspace.default.cleaned_data;"
   ]
  },
  {
   "cell_type": "code",
   "execution_count": 0,
   "metadata": {
    "application/vnd.databricks.v1+cell": {
     "cellMetadata": {
      "byteLimit": 2048000,
      "implicitDf": true,
      "rowLimit": 10000
     },
     "inputWidgets": {},
     "nuid": "031235c2-7edc-419f-bbe2-f253093c9f88",
     "showTitle": false,
     "tableResultSettingsMap": {},
     "title": ""
    }
   },
   "outputs": [],
   "source": [
    "%sql\n",
    "UPDATE workspace.default.cleaned_data\n",
    "SET phone = NULL\n",
    "WHERE LENGTH(phone) < 10;\n"
   ]
  },
  {
   "cell_type": "code",
   "execution_count": 0,
   "metadata": {
    "application/vnd.databricks.v1+cell": {
     "cellMetadata": {
      "byteLimit": 2048000,
      "implicitDf": true,
      "rowLimit": 10000
     },
     "inputWidgets": {},
     "nuid": "e4743491-15e5-4fbd-b65f-00e78d0de576",
     "showTitle": false,
     "tableResultSettingsMap": {},
     "title": ""
    }
   },
   "outputs": [],
   "source": [
    "%sql\n",
    "SELECT phone FROM workspace.default.cleaned_data WHERE LENGTH(phone) < 10;\n"
   ]
  },
  {
   "cell_type": "code",
   "execution_count": 0,
   "metadata": {
    "application/vnd.databricks.v1+cell": {
     "cellMetadata": {
      "byteLimit": 2048000,
      "implicitDf": true,
      "rowLimit": 10000
     },
     "inputWidgets": {},
     "nuid": "779fb0e3-1014-43df-bb98-4b6ce3234a2a",
     "showTitle": false,
     "tableResultSettingsMap": {},
     "title": ""
    }
   },
   "outputs": [],
   "source": [
    "%sql\n",
    "UPDATE workspace.default.cleaned_data\n",
    "SET Name = TRIM(SPLIT(Name, ',')[0]);\n"
   ]
  },
  {
   "cell_type": "code",
   "execution_count": 0,
   "metadata": {
    "application/vnd.databricks.v1+cell": {
     "cellMetadata": {
      "byteLimit": 2048000,
      "implicitDf": true,
      "rowLimit": 10000
     },
     "inputWidgets": {},
     "nuid": "609d8f98-f97c-4378-83d0-b462e9cc6ebe",
     "showTitle": false,
     "tableResultSettingsMap": {},
     "title": ""
    }
   },
   "outputs": [],
   "source": [
    "%sql\n",
    "UPDATE workspace.default.cleaned_data\n",
    "SET pincode = NULL\n",
    "WHERE LENGTH(pincode) < 6;\n"
   ]
  },
  {
   "cell_type": "code",
   "execution_count": 0,
   "metadata": {
    "application/vnd.databricks.v1+cell": {
     "cellMetadata": {
      "byteLimit": 2048000,
      "implicitDf": true,
      "rowLimit": 10000
     },
     "inputWidgets": {},
     "nuid": "c18ca86b-3625-4cd1-ac98-42edbc13399e",
     "showTitle": false,
     "tableResultSettingsMap": {},
     "title": ""
    }
   },
   "outputs": [],
   "source": [
    "%sql\n",
    "ALTER TABLE workspace.default.cleaned_data ADD COLUMN college_name STRING;\n",
    "\n",
    "\n"
   ]
  },
  {
   "cell_type": "code",
   "execution_count": 0,
   "metadata": {
    "application/vnd.databricks.v1+cell": {
     "cellMetadata": {
      "byteLimit": 2048000,
      "implicitDf": true,
      "rowLimit": 10000
     },
     "inputWidgets": {},
     "nuid": "6b47837b-70f5-4d8b-9fbb-bde570072a57",
     "showTitle": false,
     "tableResultSettingsMap": {},
     "title": ""
    }
   },
   "outputs": [],
   "source": [
    "%sql\n",
    "UPDATE workspace.default.cleaned_data\n",
    "SET college_name = TRIM(try_element_at(SPLIT(passing_year, '-'), 2));"
   ]
  },
  {
   "cell_type": "code",
   "execution_count": 0,
   "metadata": {
    "application/vnd.databricks.v1+cell": {
     "cellMetadata": {
      "byteLimit": 2048000,
      "implicitDf": true,
      "rowLimit": 10000
     },
     "inputWidgets": {},
     "nuid": "6b579812-dfbd-4e1c-8019-bffe27a30ff9",
     "showTitle": false,
     "tableResultSettingsMap": {},
     "title": ""
    }
   },
   "outputs": [],
   "source": [
    "%sql\n",
    "ALTER TABLE workspace.default.cleaned_data \n",
    "ADD COLUMN mci_number STRING;\n",
    "\n",
    "\n",
    "\n"
   ]
  },
  {
   "cell_type": "code",
   "execution_count": 0,
   "metadata": {
    "application/vnd.databricks.v1+cell": {
     "cellMetadata": {
      "byteLimit": 2048000,
      "implicitDf": true,
      "rowLimit": 10000
     },
     "inputWidgets": {},
     "nuid": "88b3857b-3d7f-4cc4-b5db-30ed4a22089a",
     "showTitle": false,
     "tableResultSettingsMap": {},
     "title": ""
    }
   },
   "outputs": [],
   "source": [
    "%sql\n",
    "ALTER TABLE workspace.default.cleaned_data \n",
    " \n",
    "ADD COLUMN state_medical_council STRING;\n"
   ]
  },
  {
   "cell_type": "code",
   "execution_count": 0,
   "metadata": {
    "application/vnd.databricks.v1+cell": {
     "cellMetadata": {
      "byteLimit": 2048000,
      "implicitDf": true,
      "rowLimit": 10000
     },
     "inputWidgets": {},
     "nuid": "25811ee2-1b6f-4867-892f-cf426e3d3f50",
     "showTitle": false,
     "tableResultSettingsMap": {},
     "title": ""
    }
   },
   "outputs": [],
   "source": [
    "%sql\n",
    "UPDATE workspace.default.cleaned_data\n",
    "SET mci_number = SPLIT(mci, ' ')[0],\n",
    "    state_medical_council = CASE \n",
    "        WHEN SIZE(SPLIT(mci, ' ')) > 1 THEN SPLIT(mci, ' ', 2)[1] \n",
    "        ELSE NULL \n",
    "    END;\n"
   ]
  },
  {
   "cell_type": "code",
   "execution_count": 0,
   "metadata": {
    "application/vnd.databricks.v1+cell": {
     "cellMetadata": {
      "byteLimit": 2048000,
      "implicitDf": true,
      "rowLimit": 10000
     },
     "inputWidgets": {},
     "nuid": "5eb24dbe-f731-4f62-bfc0-2db698626630",
     "showTitle": false,
     "tableResultSettingsMap": {},
     "title": ""
    }
   },
   "outputs": [],
   "source": [
    "%sql\n",
    "UPDATE workspace.default.cleaned_data\n",
    "SET \n",
    "    -- 1️⃣ Cleaning MCI Number (Ensures full retention of valid MCI numbers)\n",
    "    mci = CASE \n",
    "        -- Handle null-like values\n",
    "        WHEN LOWER(TRIM(mci)) IN ('ull,', 'null', '', 'mci') THEN NULL\n",
    "        \n",
    "        -- Handle standard Medical Council format (Extract registration number)\n",
    "        WHEN mci RLIKE '.* Medical Council.*' THEN \n",
    "            REGEXP_REPLACE(mci, '^([A-Z/-]*\\\\d+(?:/\\\\d+/\\\\d+)?).*$', '$1')\n",
    "\n",
    "        -- Handle prefixed registration numbers (A-, G-, etc.), ensuring prefix is preserved\n",
    "        WHEN mci RLIKE '^[A-Z]-?\\\\d+' THEN \n",
    "            TRIM(mci)\n",
    "            \n",
    "        -- Handle KMC format (e.g., \"KMC 12345\" → \"12345\")\n",
    "        WHEN mci RLIKE '^KMC\\\\s+\\\\d+' THEN \n",
    "            REGEXP_EXTRACT(mci, 'KMC\\\\s+(\\\\d+)')\n",
    "            \n",
    "        -- Handle pure numeric with possible slashes\n",
    "        WHEN mci RLIKE '^\\\\d+(/\\\\d+/\\\\d+)?$' THEN \n",
    "            TRIM(mci)\n",
    "            \n",
    "        -- Remove all non-numeric characters except slashes for other cases\n",
    "        ELSE REGEXP_REPLACE(TRIM(mci), '[^0-9/A-Z-]', '')\n",
    "    END,\n",
    "\n",
    "    -- 2️⃣ Extracting State Medical Council (Handles more variations)\n",
    "    state_medical_council = CASE \n",
    "        -- Handle null-like values\n",
    "        WHEN LOWER(TRIM(mci)) IN ('ull,', 'null', '', 'mci') THEN NULL\n",
    "        \n",
    "        -- Handle pure state names (normalization)\n",
    "        WHEN mci RLIKE '^[A-Za-z\\\\s-]+$' THEN \n",
    "            CASE \n",
    "                WHEN LOWER(TRIM(mci)) IN ('odisha', 'orissa') THEN 'Orissa Medical Council'\n",
    "                WHEN LOWER(TRIM(mci)) = 'kmc' THEN 'Karnataka Medical Council'\n",
    "                ELSE CONCAT(TRIM(mci), ' Medical Council')\n",
    "            END\n",
    "        \n",
    "        -- Handle KMC format\n",
    "        WHEN mci RLIKE '^KMC\\\\s+\\\\d+' THEN 'Karnataka Medical Council'\n",
    "        \n",
    "        -- Handle state name with number (e.g., \"Madhya Pradesh 7726\")\n",
    "        WHEN mci RLIKE '^[A-Za-z\\\\s]+\\\\d+' THEN \n",
    "            CONCAT(REGEXP_EXTRACT(mci, '^([A-Za-z\\\\s]+)'), ' Medical Council')\n",
    "\n",
    "        -- Extract known state councils from structured Medical Council format\n",
    "        WHEN mci RLIKE '.* Medical Council.*' THEN \n",
    "            REGEXP_EXTRACT(mci, '.*((?:Karnataka|Maharashtra|Delhi|Gujarat|Rajasthan|Tamil Nadu|Andhra Pradesh|West Bengal|Uttar Pradesh|Punjab|Madhya Pradesh|Telangana|Assam|Haryana|Orissa|Chhattisgarh|Kerala|Travancore-Cochin)\\\\s+(?:State\\\\s+)?(?:Medical|Dental|Homoeopathy|Ayurvedic|Unani)\\\\s+Council[^,]*)')\n",
    "            \n",
    "        -- Handle special cases like Rehabilitation Council or Dubai Medical Registry\n",
    "        WHEN mci RLIKE '.*(Rehabilitation Council|Medical Registry).*' THEN \n",
    "            REGEXP_EXTRACT(mci, '.*((?:Rehabilitation Council of India|Dubai Medical Registry)[^,]*)')\n",
    "            \n",
    "        ELSE state_medical_council\n",
    "    END;\n"
   ]
  },
  {
   "cell_type": "code",
   "execution_count": 0,
   "metadata": {
    "application/vnd.databricks.v1+cell": {
     "cellMetadata": {
      "byteLimit": 2048000,
      "implicitDf": true,
      "rowLimit": 10000
     },
     "inputWidgets": {},
     "nuid": "066e9cfb-fbff-44b2-ad72-cfae10aa6486",
     "showTitle": false,
     "tableResultSettingsMap": {},
     "title": ""
    }
   },
   "outputs": [],
   "source": [
    "%sql\n",
    "select mci,state_medical_council from workspace.default.cleaned_data ;"
   ]
  },
  {
   "cell_type": "code",
   "execution_count": 0,
   "metadata": {
    "application/vnd.databricks.v1+cell": {
     "cellMetadata": {
      "byteLimit": 2048000,
      "implicitDf": true,
      "rowLimit": 10000
     },
     "inputWidgets": {},
     "nuid": "153fb69a-4a38-433b-ae1d-2eb5d5fc0d2c",
     "showTitle": false,
     "tableResultSettingsMap": {},
     "title": ""
    }
   },
   "outputs": [],
   "source": [
    "%sql\n",
    "ALTER TABLE workspace.default.cleaned_data \n",
    "ADD COLUMNS (speciality1 STRING, speciality2 STRING);\n"
   ]
  },
  {
   "cell_type": "code",
   "execution_count": 0,
   "metadata": {
    "application/vnd.databricks.v1+cell": {
     "cellMetadata": {
      "byteLimit": 2048000,
      "implicitDf": true,
      "rowLimit": 10000
     },
     "inputWidgets": {},
     "nuid": "8847f00e-f323-4833-902f-00c100014103",
     "showTitle": false,
     "tableResultSettingsMap": {},
     "title": ""
    }
   },
   "outputs": [],
   "source": [
    "%sql\n",
    "UPDATE workspace.default.cleaned_data\n",
    "SET \n",
    "    -- Standardizing & extracting first specialty\n",
    "    speciality1 = CASE \n",
    "        WHEN LOWER(TRIM(speciality)) IN ('na', 'unknown', '') THEN NULL\n",
    "        WHEN speciality RLIKE '(?i)\\\\b(and|&|AND|-)\\\\b' THEN INITCAP(REGEXP_EXTRACT(speciality, '^(.*?)(?i)\\\\b(and|&|AND|-)\\\\b.*$', 1))\n",
    "        WHEN speciality LIKE '%Gynecologist%' OR speciality LIKE '%Gynaecologist%' THEN 'Gynaecology'\n",
    "        WHEN speciality LIKE '%Obstetrician%' OR speciality LIKE '%Obstetrics%' THEN 'Obstetrics'\n",
    "        ELSE INITCAP(TRIM(speciality))  -- Capitalize first letter of each word\n",
    "    END,\n",
    "\n",
    "    -- Standardizing & extracting second specialty\n",
    "    speciality2 = CASE \n",
    "        WHEN LOWER(TRIM(speciality)) IN ('na', 'unknown', '') THEN NULL\n",
    "        WHEN speciality RLIKE '(?i)\\\\b(and|&|AND|-)\\\\b' THEN INITCAP(REGEXP_EXTRACT(speciality, '^(?:.*?)(?i)\\\\b(and|&|AND|-)\\\\b(.*)$', 2))\n",
    "        WHEN speciality LIKE '%Gynecologist%' OR speciality LIKE '%Gynaecologist%' THEN 'Gynaecology'\n",
    "        WHEN speciality LIKE '%Obstetrician%' OR speciality LIKE '%Obstetrics%' THEN 'Obstetrics'\n",
    "        ELSE NULL  -- If only one specialty exists, keep speciality2 NULL\n",
    "    END;\n"
   ]
  },
  {
   "cell_type": "code",
   "execution_count": 0,
   "metadata": {
    "application/vnd.databricks.v1+cell": {
     "cellMetadata": {
      "byteLimit": 2048000,
      "implicitDf": true,
      "rowLimit": 10000
     },
     "inputWidgets": {},
     "nuid": "515cdb63-f977-4686-94b2-6110711f32d8",
     "showTitle": false,
     "tableResultSettingsMap": {},
     "title": ""
    }
   },
   "outputs": [],
   "source": [
    "%sql\n",
    "select speciality1,speciality2 from workspace.default.cleaned_data;"
   ]
  },
  {
   "cell_type": "code",
   "execution_count": 0,
   "metadata": {
    "application/vnd.databricks.v1+cell": {
     "cellMetadata": {
      "byteLimit": 2048000,
      "implicitDf": true,
      "rowLimit": 10000
     },
     "inputWidgets": {},
     "nuid": "88afdc05-965e-4ce4-ab62-abef47458d53",
     "showTitle": false,
     "tableResultSettingsMap": {},
     "title": ""
    }
   },
   "outputs": [],
   "source": [
    "%sql\n",
    "SELECT city, COUNT(*) as doctor_count\n",
    "FROM workspace.default.cleaned_data\n",
    "GROUP BY city\n",
    "ORDER BY doctor_count DESC;\n"
   ]
  },
  {
   "cell_type": "code",
   "execution_count": 0,
   "metadata": {
    "application/vnd.databricks.v1+cell": {
     "cellMetadata": {
      "byteLimit": 2048000,
      "implicitDf": true,
      "rowLimit": 10000
     },
     "inputWidgets": {},
     "nuid": "ac71235c-2e09-40f8-aa1b-4f95c94e284e",
     "showTitle": false,
     "tableResultSettingsMap": {},
     "title": ""
    }
   },
   "outputs": [],
   "source": [
    "%sql\n",
    "UPDATE workspace.default.cleaned_data\n",
    "SET locality = INITCAP(locality),  -- Convert locality to Camel Case\n",
    "    city = INITCAP(\n",
    "              CASE \n",
    "                  WHEN locality LIKE '%,%' \n",
    "                  THEN SPLIT(locality, ',')[0]  -- Extract text before the first comma\n",
    "                  ELSE SPLIT(locality, ' ')[0]  -- Extract the first word if no comma exists\n",
    "              END\n",
    "           );\n",
    "\n",
    "\n"
   ]
  },
  {
   "cell_type": "code",
   "execution_count": 0,
   "metadata": {
    "application/vnd.databricks.v1+cell": {
     "cellMetadata": {
      "byteLimit": 2048000,
      "implicitDf": true,
      "rowLimit": 10000
     },
     "inputWidgets": {},
     "nuid": "0be924c5-1c53-46b7-8e5c-4a56702fedf6",
     "showTitle": false,
     "tableResultSettingsMap": {},
     "title": ""
    }
   },
   "outputs": [],
   "source": [
    "%sql\n",
    "UPDATE workspace.default.cleaned_data\n",
    "SET \n",
    "    college_name = TRIM(REGEXP_REPLACE(passing_year, ',?\\\\s*\\\\d{4}$', '')),  \n",
    "    passing_year = TRIM(REGEXP_EXTRACT(passing_year, '(\\\\d{4})$'));\n"
   ]
  },
  {
   "cell_type": "code",
   "execution_count": 0,
   "metadata": {
    "application/vnd.databricks.v1+cell": {
     "cellMetadata": {
      "byteLimit": 2048000,
      "implicitDf": true,
      "rowLimit": 10000
     },
     "inputWidgets": {},
     "nuid": "e7692bf9-f36a-4329-b6c0-c2ac6e8b9aba",
     "showTitle": false,
     "tableResultSettingsMap": {},
     "title": ""
    }
   },
   "outputs": [],
   "source": [
    "%sql\n",
    "select * from workspace.default.cleaned_data"
   ]
  },
  {
   "cell_type": "code",
   "execution_count": 0,
   "metadata": {
    "application/vnd.databricks.v1+cell": {
     "cellMetadata": {
      "byteLimit": 2048000,
      "rowLimit": 10000
     },
     "inputWidgets": {},
     "nuid": "65d9d15c-b9e4-4ddb-bca2-68d0e45ca265",
     "showTitle": false,
     "tableResultSettingsMap": {},
     "title": ""
    }
   },
   "outputs": [],
   "source": [
    "import pandas as pd\n",
    "import seaborn as sns\n",
    "import matplotlib.pyplot as plt\n",
    "\n",
    "# Load data from Databricks table\n",
    "df = spark.sql(\"\"\"\n",
    "    SELECT city, speciality, COUNT(*) as doctor_count\n",
    "    FROM workspace.default.cleaned_data\n",
    "    GROUP BY city, speciality\n",
    "\"\"\").toPandas()\n",
    "\n",
    "# Pivot for Heatmap\n",
    "df_pivot = df.pivot(index=\"city\", columns=\"speciality\", values=\"doctor_count\")\n",
    "\n",
    "# Plot Heatmap\n",
    "plt.figure(figsize=(12, 8))\n",
    "sns.heatmap(df_pivot, cmap=\"coolwarm\", annot=True, fmt=\".0f\", linewidths=0.5)\n",
    "\n",
    "plt.title(\"Doctor Distribution by City and Specialization\")\n",
    "plt.xlabel(\"Specialization\")\n",
    "plt.ylabel(\"City\")\n",
    "plt.xticks(rotation=45)\n",
    "plt.show()\n"
   ]
  },
  {
   "cell_type": "code",
   "execution_count": 0,
   "metadata": {
    "application/vnd.databricks.v1+cell": {
     "cellMetadata": {
      "byteLimit": 2048000,
      "implicitDf": true,
      "rowLimit": 10000
     },
     "inputWidgets": {},
     "nuid": "a982150c-ef2c-41be-a6d7-3daa71f5de69",
     "showTitle": false,
     "tableResultSettingsMap": {},
     "title": ""
    }
   },
   "outputs": [],
   "source": [
    "df = spark.sql(\"\"\"\n",
    "    SELECT city, COUNT(*) as doctor_count\n",
    "    FROM workspace.default.cleaned_data\n",
    "    GROUP BY city\n",
    "\"\"\").toPandas()\n",
    "\n",
    "plt.figure(figsize=(12, 6))\n",
    "sns.barplot(data=df, x=\"city\", y=\"doctor_count\", palette=\"viridis\")\n",
    "plt.xticks(rotation=45)\n",
    "plt.xlabel(\"City\")\n",
    "plt.ylabel(\"Number of Doctors\")\n",
    "plt.title(\"Distribution of Doctors by City\")\n",
    "plt.show()\n"
   ]
  },
  {
   "cell_type": "code",
   "execution_count": 0,
   "metadata": {
    "application/vnd.databricks.v1+cell": {
     "cellMetadata": {
      "byteLimit": 2048000,
      "rowLimit": 10000
     },
     "inputWidgets": {},
     "nuid": "ffdd6026-1268-4b8f-a87a-298ea1e96382",
     "showTitle": false,
     "tableResultSettingsMap": {},
     "title": ""
    }
   },
   "outputs": [],
   "source": [
    "df = spark.sql(\"\"\"\n",
    "    SELECT city, speciality, COUNT(*) as doctor_count\n",
    "    FROM workspace.default.cleaned_data\n",
    "    GROUP BY city, speciality\n",
    "\"\"\").toPandas()\n",
    "\n",
    "df_pivot = df.pivot(index=\"city\", columns=\"speciality\", values=\"doctor_count\")\n",
    "\n",
    "plt.figure(figsize=(12, 8))\n",
    "sns.heatmap(df_pivot, cmap=\"coolwarm\", annot=True, fmt=\".0f\", linewidths=0.5)\n",
    "plt.title(\"Doctor Distribution by City and Specialization\")\n",
    "plt.xlabel(\"Specialization\")\n",
    "plt.ylabel(\"City\")\n",
    "plt.xticks(rotation=45)\n",
    "plt.show()\n"
   ]
  },
  {
   "cell_type": "code",
   "execution_count": 0,
   "metadata": {
    "application/vnd.databricks.v1+cell": {
     "cellMetadata": {
      "byteLimit": 2048000,
      "rowLimit": 10000
     },
     "inputWidgets": {},
     "nuid": "5d9af886-b3c4-4712-8114-0ff502e97caf",
     "showTitle": false,
     "tableResultSettingsMap": {},
     "title": ""
    }
   },
   "outputs": [],
   "source": [
    "df = spark.sql(\"\"\"\n",
    "    SELECT speciality, COUNT(*) as doctor_count\n",
    "    FROM workspace.default.cleaned_data\n",
    "    GROUP BY speciality\n",
    "\"\"\").toPandas()\n",
    "\n",
    "plt.figure(figsize=(10, 10))\n",
    "plt.pie(df[\"doctor_count\"], labels=df[\"speciality\"], autopct=\"%1.1f%%\", colors=sns.color_palette(\"pastel\"))\n",
    "plt.title(\"Distribution of Doctors by Specialization\")\n",
    "plt.show()\n"
   ]
  },
  {
   "cell_type": "code",
   "execution_count": 0,
   "metadata": {
    "application/vnd.databricks.v1+cell": {
     "cellMetadata": {
      "byteLimit": 2048000,
      "rowLimit": 10000
     },
     "inputWidgets": {},
     "nuid": "68776f6d-c2e9-4b15-8f23-9453012319d8",
     "showTitle": false,
     "tableResultSettingsMap": {},
     "title": ""
    }
   },
   "outputs": [],
   "source": [
    "df = spark.sql(\"\"\"\n",
    "    SELECT state, COUNT(*) as doctor_count\n",
    "    FROM workspace.default.cleaned_data\n",
    "    GROUP BY state\n",
    "\"\"\").toPandas()\n",
    "\n",
    "plt.figure(figsize=(10, 10))\n",
    "plt.pie(df[\"doctor_count\"], labels=df[\"state\"], autopct=\"%1.1f%%\", colors=sns.color_palette(\"coolwarm\"))\n",
    "plt.title(\"Distribution of Doctors by State\")\n",
    "plt.show()\n"
   ]
  },
  {
   "cell_type": "code",
   "execution_count": 0,
   "metadata": {
    "application/vnd.databricks.v1+cell": {
     "cellMetadata": {
      "byteLimit": 2048000,
      "implicitDf": true,
      "rowLimit": 10000
     },
     "inputWidgets": {},
     "nuid": "17e434d9-356e-4658-ad04-68624a1dcf9c",
     "showTitle": false,
     "tableResultSettingsMap": {},
     "title": ""
    }
   },
   "outputs": [],
   "source": [
    "%sql\n",
    "select experience from workspace.default.cleaned_data"
   ]
  },
  {
   "cell_type": "code",
   "execution_count": 0,
   "metadata": {
    "application/vnd.databricks.v1+cell": {
     "cellMetadata": {
      "byteLimit": 2048000,
      "implicitDf": true,
      "rowLimit": 10000
     },
     "inputWidgets": {},
     "nuid": "ad8a23b5-00b8-4654-a02b-603d8e3137be",
     "showTitle": false,
     "tableResultSettingsMap": {},
     "title": ""
    }
   },
   "outputs": [],
   "source": [
    "%sql\n",
    "select count(*) ,speciality, experience from workspace.default.cleaned_data group by 2,3"
   ]
  },
  {
   "cell_type": "code",
   "execution_count": 0,
   "metadata": {
    "application/vnd.databricks.v1+cell": {
     "cellMetadata": {
      "byteLimit": 2048000,
      "rowLimit": 10000
     },
     "inputWidgets": {},
     "nuid": "6378aa6b-33ab-40ca-8cdc-c195def6b7d5",
     "showTitle": false,
     "tableResultSettingsMap": {},
     "title": ""
    }
   },
   "outputs": [],
   "source": [
    "import pandas as pd\n",
    "import seaborn as sns\n",
    "import matplotlib.pyplot as plt\n",
    "\n",
    "# Load data from Databricks table\n",
    "df = spark.sql(\"\"\"\n",
    "    SELECT COUNT(*) as doctor_count, speciality, experience\n",
    "    FROM workspace.default.cleaned_data\n",
    "    GROUP BY speciality, experience\n",
    "\"\"\").toPandas()\n",
    "\n",
    "# Plot bar chart\n",
    "plt.figure(figsize=(14, 8))\n",
    "sns.barplot(data=df, x=\"experience\", y=\"doctor_count\", hue=\"speciality\", dodge=True)\n",
    "\n",
    "plt.title(\"Doctor Count by Speciality and Experience\")\n",
    "plt.xlabel(\"Years of Experience\")\n",
    "plt.ylabel(\"Number of Doctors\")\n",
    "plt.xticks(rotation=45)\n",
    "plt.legend(title=\"Speciality\")\n",
    "plt.show()\n"
   ]
  },
  {
   "cell_type": "code",
   "execution_count": 0,
   "metadata": {
    "application/vnd.databricks.v1+cell": {
     "cellMetadata": {
      "byteLimit": 2048000,
      "rowLimit": 10000
     },
     "inputWidgets": {},
     "nuid": "730aa509-7224-4a6a-9e5e-948461268c54",
     "showTitle": false,
     "tableResultSettingsMap": {},
     "title": ""
    }
   },
   "outputs": [],
   "source": [
    "import pandas as pd\n",
    "import seaborn as sns\n",
    "import matplotlib.pyplot as plt\n",
    "\n",
    "# Load data from Databricks table\n",
    "df = spark.sql(\"\"\"\n",
    "    SELECT COUNT(*) as doctor_count, speciality, experience\n",
    "    FROM workspace.default.cleaned_data\n",
    "    WHERE experience IS NOT NULL AND speciality IS NOT NULL\n",
    "    GROUP BY speciality, experience\n",
    "    HAVING COUNT(*) > 0\n",
    "\"\"\").toPandas()\n",
    "\n",
    "# Pivot for Heatmap\n",
    "df_pivot = df.pivot(index=\"experience\", columns=\"speciality\", values=\"doctor_count\")\n",
    "\n",
    "# Plot Heatmap\n",
    "plt.figure(figsize=(14, 8))\n",
    "sns.heatmap(df_pivot, cmap=\"coolwarm\", annot=True, fmt=\".0f\", linewidths=0.5)\n",
    "\n",
    "plt.title(\"Doctor Count by Speciality and Experience\")\n",
    "plt.xlabel(\"Speciality\")\n",
    "plt.ylabel(\"Years of Experience\")\n",
    "plt.xticks(rotation=45)\n",
    "plt.yticks(rotation=0)\n",
    "plt.show()\n"
   ]
  },
  {
   "cell_type": "code",
   "execution_count": 0,
   "metadata": {
    "application/vnd.databricks.v1+cell": {
     "cellMetadata": {
      "byteLimit": 2048000,
      "rowLimit": 10000
     },
     "inputWidgets": {},
     "nuid": "c368551e-4669-4ba2-95bd-212f0d1ea552",
     "showTitle": false,
     "tableResultSettingsMap": {},
     "title": ""
    }
   },
   "outputs": [],
   "source": [
    "%python\n",
    "import pandas as pd\n",
    "import seaborn as sns\n",
    "import matplotlib.pyplot as plt\n",
    "\n",
    "# Load data from Databricks table\n",
    "df = spark.sql(\"\"\"\n",
    "    SELECT city, speciality, experience, COUNT(*) as doctor_count\n",
    "    FROM workspace.default.cleaned_data\n",
    "    WHERE city IS NOT NULL AND speciality IS NOT NULL AND experience IS NOT NULL\n",
    "    GROUP BY city, speciality, experience\n",
    "    HAVING COUNT(*) > 0\n",
    "\"\"\").toPandas()\n",
    "\n",
    "# Pivot for Heatmap\n",
    "df_pivot = df.pivot_table(index=[\"city\", \"experience\"], columns=\"speciality\", values=\"doctor_count\", aggfunc=\"sum\")\n",
    "\n",
    "# Check if the pivot table is empty\n",
    "if not df_pivot.empty:\n",
    "    # Plot Heatmap\n",
    "    plt.figure(figsize=(16, 10))\n",
    "    sns.heatmap(df_pivot, cmap=\"coolwarm\", annot=True, fmt=\".0f\", linewidths=0.5)\n",
    "\n",
    "    plt.title(\"Doctor Count by City, Speciality, and Experience\")\n",
    "    plt.xlabel(\"Speciality\")\n",
    "    plt.ylabel(\"City & Experience\")\n",
    "    plt.xticks(rotation=45)\n",
    "    plt.yticks(rotation=0)\n",
    "    plt.show()\n",
    "else:\n",
    "    print(\"No data available to plot the heatmap.\")"
   ]
  },
  {
   "cell_type": "code",
   "execution_count": 0,
   "metadata": {
    "application/vnd.databricks.v1+cell": {
     "cellMetadata": {
      "byteLimit": 2048000,
      "implicitDf": true,
      "rowLimit": 10000
     },
     "inputWidgets": {},
     "nuid": "a8af825c-3aeb-4044-a347-ef942d88b121",
     "showTitle": false,
     "tableResultSettingsMap": {},
     "title": ""
    }
   },
   "outputs": [],
   "source": [
    "%sql\n",
    " SELECT *\n",
    "    FROM workspace.default.cleaned_data ;\n",
    "    "
   ]
  },
  {
   "cell_type": "code",
   "execution_count": 0,
   "metadata": {
    "application/vnd.databricks.v1+cell": {
     "cellMetadata": {
      "byteLimit": 2048000,
      "implicitDf": true,
      "rowLimit": 10000
     },
     "inputWidgets": {},
     "nuid": "31842b6a-9fed-40b5-b0eb-3d6378b180e5",
     "showTitle": false,
     "tableResultSettingsMap": {},
     "title": ""
    }
   },
   "outputs": [],
   "source": [
    "%sql\n",
    "describe table workspace.default.cleaned_data ;"
   ]
  },
  {
   "cell_type": "code",
   "execution_count": 0,
   "metadata": {
    "application/vnd.databricks.v1+cell": {
     "cellMetadata": {
      "byteLimit": 2048000,
      "implicitDf": true,
      "rowLimit": 10000
     },
     "inputWidgets": {},
     "nuid": "b26a5890-874e-4997-96f0-5df8fcb8e80b",
     "showTitle": false,
     "tableResultSettingsMap": {},
     "title": ""
    }
   },
   "outputs": [],
   "source": [
    "%sql\n",
    "SELECT \n",
    "    record_id,\n",
    "    Name,\n",
    "    url,\n",
    "    --Gender,\n",
    "    full_experience,\n",
    "    speciality1 AS `Specialty 1`,\n",
    "    speciality2 AS `Specialty 2`,\n",
    "    education AS Qualification,\n",
    "    clinic_name AS `Clinic name`,\n",
    "    address AS `Street name`,\n",
    "    City,\n",
    "    State,\n",
    "    pincode as Pin,\n",
    "    college_name AS `College name`,\n",
    "    passing_year AS `Year of graduation`,\n",
    "    mci AS `Mci No`,\n",
    "    state_medical_council AS `State Medical Council`\n",
    "FROM workspace.default.cleaned_data;\n"
   ]
  }
 ],
 "metadata": {
  "application/vnd.databricks.v1+notebook": {
   "computePreferences": null,
   "dashboards": [],
   "environmentMetadata": {
    "base_environment": "",
    "client": "2"
   },
   "language": "python",
   "notebookMetadata": {
    "mostRecentlyExecutedCommandWithImplicitDF": {
     "commandId": 6917057560269887,
     "dataframes": [
      "_sqldf"
     ]
    },
    "pythonIndentUnit": 4
   },
   "notebookName": "assessment",
   "widgets": {}
  },
  "language_info": {
   "name": "python"
  }
 },
 "nbformat": 4,
 "nbformat_minor": 0
}
